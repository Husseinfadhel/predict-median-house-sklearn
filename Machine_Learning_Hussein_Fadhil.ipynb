{
  "cells": [
    {
      "cell_type": "markdown",
      "metadata": {
        "id": "m94PXEtgU_e7"
      },
      "source": [
        "# Upload the dataset"
      ]
    },
    {
      "cell_type": "code",
      "execution_count": null,
      "metadata": {
        "id": "7yqjTQ9Djust"
      },
      "outputs": [],
      "source": [
        "from google.colab import files\n",
        "\n",
        "uploaded = files.upload()\n",
        "\n",
        "for fn in uploaded.keys():\n",
        "  print('User uploaded file \"{name}\" with length {length} bytes'.format(\n",
        "      name=fn, length=len(uploaded[fn])))"
      ]
    },
    {
      "cell_type": "markdown",
      "metadata": {
        "id": "w829qkPAq9qS"
      },
      "source": [
        "# Import necessary libraries for the machine learning project."
      ]
    },
    {
      "cell_type": "code",
      "execution_count": null,
      "metadata": {
        "id": "JauLGmHgjMCH"
      },
      "outputs": [],
      "source": [
        "import numpy as np\n",
        "import pandas as pd\n",
        "import matplotlib.pyplot as plt\n",
        "from sklearn import preprocessing, model_selection, linear_model, neighbors, svm, metrics, tree\n"
      ]
    },
    {
      "cell_type": "markdown",
      "metadata": {
        "id": "qFfipYl31CC9"
      },
      "source": [
        "# Read and apply necessary preprocessing steps on the dataset"
      ]
    },
    {
      "cell_type": "code",
      "execution_count": null,
      "metadata": {
        "id": "ydf7EDMd8tOP"
      },
      "outputs": [],
      "source": [
        "# read the csv file \n",
        "df = pd.read_csv('house.csv')"
      ]
    },
    {
      "cell_type": "code",
      "execution_count": null,
      "metadata": {
        "colab": {
          "base_uri": "https://localhost:8080/",
          "height": 206
        },
        "id": "HnHym0AY-ZLG",
        "outputId": "909ac942-d990-4180-ac8e-e788c80e9f7d"
      },
      "outputs": [
        {
          "data": {
            "text/html": [
              "\n",
              "  <div id=\"df-3ab4946e-5e15-4e81-91c2-920c847ec6c2\">\n",
              "    <div class=\"colab-df-container\">\n",
              "      <div>\n",
              "<style scoped>\n",
              "    .dataframe tbody tr th:only-of-type {\n",
              "        vertical-align: middle;\n",
              "    }\n",
              "\n",
              "    .dataframe tbody tr th {\n",
              "        vertical-align: top;\n",
              "    }\n",
              "\n",
              "    .dataframe thead th {\n",
              "        text-align: right;\n",
              "    }\n",
              "</style>\n",
              "<table border=\"1\" class=\"dataframe\">\n",
              "  <thead>\n",
              "    <tr style=\"text-align: right;\">\n",
              "      <th></th>\n",
              "      <th>longitude</th>\n",
              "      <th>latitude</th>\n",
              "      <th>housing_median_age</th>\n",
              "      <th>total_rooms</th>\n",
              "      <th>total_bedrooms</th>\n",
              "      <th>population</th>\n",
              "      <th>households</th>\n",
              "      <th>median_income</th>\n",
              "      <th>median_house_value</th>\n",
              "      <th>ocean_proximity</th>\n",
              "    </tr>\n",
              "  </thead>\n",
              "  <tbody>\n",
              "    <tr>\n",
              "      <th>0</th>\n",
              "      <td>-122.23</td>\n",
              "      <td>37.88</td>\n",
              "      <td>41.0</td>\n",
              "      <td>880.0</td>\n",
              "      <td>129.0</td>\n",
              "      <td>322.0</td>\n",
              "      <td>126.0</td>\n",
              "      <td>8.3252</td>\n",
              "      <td>452600.0</td>\n",
              "      <td>NEAR BAY</td>\n",
              "    </tr>\n",
              "    <tr>\n",
              "      <th>1</th>\n",
              "      <td>-122.22</td>\n",
              "      <td>37.86</td>\n",
              "      <td>21.0</td>\n",
              "      <td>7099.0</td>\n",
              "      <td>1106.0</td>\n",
              "      <td>2401.0</td>\n",
              "      <td>1138.0</td>\n",
              "      <td>8.3014</td>\n",
              "      <td>358500.0</td>\n",
              "      <td>NEAR BAY</td>\n",
              "    </tr>\n",
              "    <tr>\n",
              "      <th>2</th>\n",
              "      <td>-122.24</td>\n",
              "      <td>37.85</td>\n",
              "      <td>52.0</td>\n",
              "      <td>1467.0</td>\n",
              "      <td>190.0</td>\n",
              "      <td>496.0</td>\n",
              "      <td>177.0</td>\n",
              "      <td>7.2574</td>\n",
              "      <td>352100.0</td>\n",
              "      <td>NEAR BAY</td>\n",
              "    </tr>\n",
              "    <tr>\n",
              "      <th>3</th>\n",
              "      <td>-122.25</td>\n",
              "      <td>37.85</td>\n",
              "      <td>52.0</td>\n",
              "      <td>1274.0</td>\n",
              "      <td>235.0</td>\n",
              "      <td>558.0</td>\n",
              "      <td>219.0</td>\n",
              "      <td>5.6431</td>\n",
              "      <td>341300.0</td>\n",
              "      <td>NEAR BAY</td>\n",
              "    </tr>\n",
              "    <tr>\n",
              "      <th>4</th>\n",
              "      <td>-122.25</td>\n",
              "      <td>37.85</td>\n",
              "      <td>52.0</td>\n",
              "      <td>1627.0</td>\n",
              "      <td>280.0</td>\n",
              "      <td>565.0</td>\n",
              "      <td>259.0</td>\n",
              "      <td>3.8462</td>\n",
              "      <td>342200.0</td>\n",
              "      <td>NEAR BAY</td>\n",
              "    </tr>\n",
              "  </tbody>\n",
              "</table>\n",
              "</div>\n",
              "      <button class=\"colab-df-convert\" onclick=\"convertToInteractive('df-3ab4946e-5e15-4e81-91c2-920c847ec6c2')\"\n",
              "              title=\"Convert this dataframe to an interactive table.\"\n",
              "              style=\"display:none;\">\n",
              "        \n",
              "  <svg xmlns=\"http://www.w3.org/2000/svg\" height=\"24px\"viewBox=\"0 0 24 24\"\n",
              "       width=\"24px\">\n",
              "    <path d=\"M0 0h24v24H0V0z\" fill=\"none\"/>\n",
              "    <path d=\"M18.56 5.44l.94 2.06.94-2.06 2.06-.94-2.06-.94-.94-2.06-.94 2.06-2.06.94zm-11 1L8.5 8.5l.94-2.06 2.06-.94-2.06-.94L8.5 2.5l-.94 2.06-2.06.94zm10 10l.94 2.06.94-2.06 2.06-.94-2.06-.94-.94-2.06-.94 2.06-2.06.94z\"/><path d=\"M17.41 7.96l-1.37-1.37c-.4-.4-.92-.59-1.43-.59-.52 0-1.04.2-1.43.59L10.3 9.45l-7.72 7.72c-.78.78-.78 2.05 0 2.83L4 21.41c.39.39.9.59 1.41.59.51 0 1.02-.2 1.41-.59l7.78-7.78 2.81-2.81c.8-.78.8-2.07 0-2.86zM5.41 20L4 18.59l7.72-7.72 1.47 1.35L5.41 20z\"/>\n",
              "  </svg>\n",
              "      </button>\n",
              "      \n",
              "  <style>\n",
              "    .colab-df-container {\n",
              "      display:flex;\n",
              "      flex-wrap:wrap;\n",
              "      gap: 12px;\n",
              "    }\n",
              "\n",
              "    .colab-df-convert {\n",
              "      background-color: #E8F0FE;\n",
              "      border: none;\n",
              "      border-radius: 50%;\n",
              "      cursor: pointer;\n",
              "      display: none;\n",
              "      fill: #1967D2;\n",
              "      height: 32px;\n",
              "      padding: 0 0 0 0;\n",
              "      width: 32px;\n",
              "    }\n",
              "\n",
              "    .colab-df-convert:hover {\n",
              "      background-color: #E2EBFA;\n",
              "      box-shadow: 0px 1px 2px rgba(60, 64, 67, 0.3), 0px 1px 3px 1px rgba(60, 64, 67, 0.15);\n",
              "      fill: #174EA6;\n",
              "    }\n",
              "\n",
              "    [theme=dark] .colab-df-convert {\n",
              "      background-color: #3B4455;\n",
              "      fill: #D2E3FC;\n",
              "    }\n",
              "\n",
              "    [theme=dark] .colab-df-convert:hover {\n",
              "      background-color: #434B5C;\n",
              "      box-shadow: 0px 1px 3px 1px rgba(0, 0, 0, 0.15);\n",
              "      filter: drop-shadow(0px 1px 2px rgba(0, 0, 0, 0.3));\n",
              "      fill: #FFFFFF;\n",
              "    }\n",
              "  </style>\n",
              "\n",
              "      <script>\n",
              "        const buttonEl =\n",
              "          document.querySelector('#df-3ab4946e-5e15-4e81-91c2-920c847ec6c2 button.colab-df-convert');\n",
              "        buttonEl.style.display =\n",
              "          google.colab.kernel.accessAllowed ? 'block' : 'none';\n",
              "\n",
              "        async function convertToInteractive(key) {\n",
              "          const element = document.querySelector('#df-3ab4946e-5e15-4e81-91c2-920c847ec6c2');\n",
              "          const dataTable =\n",
              "            await google.colab.kernel.invokeFunction('convertToInteractive',\n",
              "                                                     [key], {});\n",
              "          if (!dataTable) return;\n",
              "\n",
              "          const docLinkHtml = 'Like what you see? Visit the ' +\n",
              "            '<a target=\"_blank\" href=https://colab.research.google.com/notebooks/data_table.ipynb>data table notebook</a>'\n",
              "            + ' to learn more about interactive tables.';\n",
              "          element.innerHTML = '';\n",
              "          dataTable['output_type'] = 'display_data';\n",
              "          await google.colab.output.renderOutput(dataTable, element);\n",
              "          const docLink = document.createElement('div');\n",
              "          docLink.innerHTML = docLinkHtml;\n",
              "          element.appendChild(docLink);\n",
              "        }\n",
              "      </script>\n",
              "    </div>\n",
              "  </div>\n",
              "  "
            ],
            "text/plain": [
              "   longitude  latitude  ...  median_house_value  ocean_proximity\n",
              "0    -122.23     37.88  ...            452600.0         NEAR BAY\n",
              "1    -122.22     37.86  ...            358500.0         NEAR BAY\n",
              "2    -122.24     37.85  ...            352100.0         NEAR BAY\n",
              "3    -122.25     37.85  ...            341300.0         NEAR BAY\n",
              "4    -122.25     37.85  ...            342200.0         NEAR BAY\n",
              "\n",
              "[5 rows x 10 columns]"
            ]
          },
          "execution_count": 7,
          "metadata": {},
          "output_type": "execute_result"
        }
      ],
      "source": [
        "# print the head of the data \n",
        "df.head()"
      ]
    },
    {
      "cell_type": "code",
      "execution_count": null,
      "metadata": {
        "colab": {
          "base_uri": "https://localhost:8080/",
          "height": 300
        },
        "id": "AAYxgJdbRcHb",
        "outputId": "42ce8d77-ff51-4315-dc06-f5432dde86b6"
      },
      "outputs": [
        {
          "data": {
            "text/html": [
              "\n",
              "  <div id=\"df-a4336acc-51b1-48a9-bb96-14fdda0e5990\">\n",
              "    <div class=\"colab-df-container\">\n",
              "      <div>\n",
              "<style scoped>\n",
              "    .dataframe tbody tr th:only-of-type {\n",
              "        vertical-align: middle;\n",
              "    }\n",
              "\n",
              "    .dataframe tbody tr th {\n",
              "        vertical-align: top;\n",
              "    }\n",
              "\n",
              "    .dataframe thead th {\n",
              "        text-align: right;\n",
              "    }\n",
              "</style>\n",
              "<table border=\"1\" class=\"dataframe\">\n",
              "  <thead>\n",
              "    <tr style=\"text-align: right;\">\n",
              "      <th></th>\n",
              "      <th>longitude</th>\n",
              "      <th>latitude</th>\n",
              "      <th>housing_median_age</th>\n",
              "      <th>total_rooms</th>\n",
              "      <th>total_bedrooms</th>\n",
              "      <th>population</th>\n",
              "      <th>households</th>\n",
              "      <th>median_income</th>\n",
              "      <th>median_house_value</th>\n",
              "    </tr>\n",
              "  </thead>\n",
              "  <tbody>\n",
              "    <tr>\n",
              "      <th>count</th>\n",
              "      <td>8830.000000</td>\n",
              "      <td>8829.000000</td>\n",
              "      <td>8829.000000</td>\n",
              "      <td>8829.000000</td>\n",
              "      <td>8739.000000</td>\n",
              "      <td>8829.000000</td>\n",
              "      <td>8829.000000</td>\n",
              "      <td>8829.000000</td>\n",
              "      <td>8829.000000</td>\n",
              "    </tr>\n",
              "    <tr>\n",
              "      <th>mean</th>\n",
              "      <td>-119.315862</td>\n",
              "      <td>35.347086</td>\n",
              "      <td>32.475932</td>\n",
              "      <td>2355.891041</td>\n",
              "      <td>506.300606</td>\n",
              "      <td>1383.415449</td>\n",
              "      <td>475.699173</td>\n",
              "      <td>3.672058</td>\n",
              "      <td>201134.802696</td>\n",
              "    </tr>\n",
              "    <tr>\n",
              "      <th>std</th>\n",
              "      <td>1.752855</td>\n",
              "      <td>1.937944</td>\n",
              "      <td>11.609714</td>\n",
              "      <td>1839.273553</td>\n",
              "      <td>377.695680</td>\n",
              "      <td>993.251026</td>\n",
              "      <td>351.079667</td>\n",
              "      <td>1.887491</td>\n",
              "      <td>112729.109291</td>\n",
              "    </tr>\n",
              "    <tr>\n",
              "      <th>min</th>\n",
              "      <td>-124.350000</td>\n",
              "      <td>32.670000</td>\n",
              "      <td>1.000000</td>\n",
              "      <td>2.000000</td>\n",
              "      <td>2.000000</td>\n",
              "      <td>3.000000</td>\n",
              "      <td>2.000000</td>\n",
              "      <td>0.499900</td>\n",
              "      <td>14999.000000</td>\n",
              "    </tr>\n",
              "    <tr>\n",
              "      <th>25%</th>\n",
              "      <td>-120.350000</td>\n",
              "      <td>33.990000</td>\n",
              "      <td>25.000000</td>\n",
              "      <td>1347.000000</td>\n",
              "      <td>285.000000</td>\n",
              "      <td>790.000000</td>\n",
              "      <td>272.000000</td>\n",
              "      <td>2.367400</td>\n",
              "      <td>118100.000000</td>\n",
              "    </tr>\n",
              "    <tr>\n",
              "      <th>50%</th>\n",
              "      <td>-118.370000</td>\n",
              "      <td>34.140000</td>\n",
              "      <td>34.000000</td>\n",
              "      <td>1928.000000</td>\n",
              "      <td>411.000000</td>\n",
              "      <td>1142.000000</td>\n",
              "      <td>388.000000</td>\n",
              "      <td>3.281300</td>\n",
              "      <td>175000.000000</td>\n",
              "    </tr>\n",
              "    <tr>\n",
              "      <th>75%</th>\n",
              "      <td>-118.190000</td>\n",
              "      <td>37.540000</td>\n",
              "      <td>41.000000</td>\n",
              "      <td>2807.000000</td>\n",
              "      <td>609.000000</td>\n",
              "      <td>1688.000000</td>\n",
              "      <td>570.000000</td>\n",
              "      <td>4.493400</td>\n",
              "      <td>250000.000000</td>\n",
              "    </tr>\n",
              "    <tr>\n",
              "      <th>max</th>\n",
              "      <td>-114.550000</td>\n",
              "      <td>41.950000</td>\n",
              "      <td>52.000000</td>\n",
              "      <td>32054.000000</td>\n",
              "      <td>5290.000000</td>\n",
              "      <td>15507.000000</td>\n",
              "      <td>5050.000000</td>\n",
              "      <td>15.000100</td>\n",
              "      <td>500001.000000</td>\n",
              "    </tr>\n",
              "  </tbody>\n",
              "</table>\n",
              "</div>\n",
              "      <button class=\"colab-df-convert\" onclick=\"convertToInteractive('df-a4336acc-51b1-48a9-bb96-14fdda0e5990')\"\n",
              "              title=\"Convert this dataframe to an interactive table.\"\n",
              "              style=\"display:none;\">\n",
              "        \n",
              "  <svg xmlns=\"http://www.w3.org/2000/svg\" height=\"24px\"viewBox=\"0 0 24 24\"\n",
              "       width=\"24px\">\n",
              "    <path d=\"M0 0h24v24H0V0z\" fill=\"none\"/>\n",
              "    <path d=\"M18.56 5.44l.94 2.06.94-2.06 2.06-.94-2.06-.94-.94-2.06-.94 2.06-2.06.94zm-11 1L8.5 8.5l.94-2.06 2.06-.94-2.06-.94L8.5 2.5l-.94 2.06-2.06.94zm10 10l.94 2.06.94-2.06 2.06-.94-2.06-.94-.94-2.06-.94 2.06-2.06.94z\"/><path d=\"M17.41 7.96l-1.37-1.37c-.4-.4-.92-.59-1.43-.59-.52 0-1.04.2-1.43.59L10.3 9.45l-7.72 7.72c-.78.78-.78 2.05 0 2.83L4 21.41c.39.39.9.59 1.41.59.51 0 1.02-.2 1.41-.59l7.78-7.78 2.81-2.81c.8-.78.8-2.07 0-2.86zM5.41 20L4 18.59l7.72-7.72 1.47 1.35L5.41 20z\"/>\n",
              "  </svg>\n",
              "      </button>\n",
              "      \n",
              "  <style>\n",
              "    .colab-df-container {\n",
              "      display:flex;\n",
              "      flex-wrap:wrap;\n",
              "      gap: 12px;\n",
              "    }\n",
              "\n",
              "    .colab-df-convert {\n",
              "      background-color: #E8F0FE;\n",
              "      border: none;\n",
              "      border-radius: 50%;\n",
              "      cursor: pointer;\n",
              "      display: none;\n",
              "      fill: #1967D2;\n",
              "      height: 32px;\n",
              "      padding: 0 0 0 0;\n",
              "      width: 32px;\n",
              "    }\n",
              "\n",
              "    .colab-df-convert:hover {\n",
              "      background-color: #E2EBFA;\n",
              "      box-shadow: 0px 1px 2px rgba(60, 64, 67, 0.3), 0px 1px 3px 1px rgba(60, 64, 67, 0.15);\n",
              "      fill: #174EA6;\n",
              "    }\n",
              "\n",
              "    [theme=dark] .colab-df-convert {\n",
              "      background-color: #3B4455;\n",
              "      fill: #D2E3FC;\n",
              "    }\n",
              "\n",
              "    [theme=dark] .colab-df-convert:hover {\n",
              "      background-color: #434B5C;\n",
              "      box-shadow: 0px 1px 3px 1px rgba(0, 0, 0, 0.15);\n",
              "      filter: drop-shadow(0px 1px 2px rgba(0, 0, 0, 0.3));\n",
              "      fill: #FFFFFF;\n",
              "    }\n",
              "  </style>\n",
              "\n",
              "      <script>\n",
              "        const buttonEl =\n",
              "          document.querySelector('#df-a4336acc-51b1-48a9-bb96-14fdda0e5990 button.colab-df-convert');\n",
              "        buttonEl.style.display =\n",
              "          google.colab.kernel.accessAllowed ? 'block' : 'none';\n",
              "\n",
              "        async function convertToInteractive(key) {\n",
              "          const element = document.querySelector('#df-a4336acc-51b1-48a9-bb96-14fdda0e5990');\n",
              "          const dataTable =\n",
              "            await google.colab.kernel.invokeFunction('convertToInteractive',\n",
              "                                                     [key], {});\n",
              "          if (!dataTable) return;\n",
              "\n",
              "          const docLinkHtml = 'Like what you see? Visit the ' +\n",
              "            '<a target=\"_blank\" href=https://colab.research.google.com/notebooks/data_table.ipynb>data table notebook</a>'\n",
              "            + ' to learn more about interactive tables.';\n",
              "          element.innerHTML = '';\n",
              "          dataTable['output_type'] = 'display_data';\n",
              "          await google.colab.output.renderOutput(dataTable, element);\n",
              "          const docLink = document.createElement('div');\n",
              "          docLink.innerHTML = docLinkHtml;\n",
              "          element.appendChild(docLink);\n",
              "        }\n",
              "      </script>\n",
              "    </div>\n",
              "  </div>\n",
              "  "
            ],
            "text/plain": [
              "         longitude     latitude  ...  median_income  median_house_value\n",
              "count  8830.000000  8829.000000  ...    8829.000000         8829.000000\n",
              "mean   -119.315862    35.347086  ...       3.672058       201134.802696\n",
              "std       1.752855     1.937944  ...       1.887491       112729.109291\n",
              "min    -124.350000    32.670000  ...       0.499900        14999.000000\n",
              "25%    -120.350000    33.990000  ...       2.367400       118100.000000\n",
              "50%    -118.370000    34.140000  ...       3.281300       175000.000000\n",
              "75%    -118.190000    37.540000  ...       4.493400       250000.000000\n",
              "max    -114.550000    41.950000  ...      15.000100       500001.000000\n",
              "\n",
              "[8 rows x 9 columns]"
            ]
          },
          "execution_count": 9,
          "metadata": {},
          "output_type": "execute_result"
        }
      ],
      "source": [
        "# print the describe of the dataframe \n",
        "df.describe()"
      ]
    },
    {
      "cell_type": "code",
      "execution_count": null,
      "metadata": {
        "colab": {
          "base_uri": "https://localhost:8080/"
        },
        "id": "9dfhF7_kJqdj",
        "outputId": "330f88fe-7bbe-490d-f3a4-5de959fa7aff"
      },
      "outputs": [
        {
          "name": "stdout",
          "output_type": "stream",
          "text": [
            "<class 'pandas.core.frame.DataFrame'>\n",
            "RangeIndex: 8830 entries, 0 to 8829\n",
            "Data columns (total 10 columns):\n",
            " #   Column              Non-Null Count  Dtype  \n",
            "---  ------              --------------  -----  \n",
            " 0   longitude           8830 non-null   float64\n",
            " 1   latitude            8829 non-null   float64\n",
            " 2   housing_median_age  8829 non-null   float64\n",
            " 3   total_rooms         8829 non-null   float64\n",
            " 4   total_bedrooms      8739 non-null   float64\n",
            " 5   population          8829 non-null   float64\n",
            " 6   households          8829 non-null   float64\n",
            " 7   median_income       8829 non-null   float64\n",
            " 8   median_house_value  8829 non-null   float64\n",
            " 9   ocean_proximity     8829 non-null   object \n",
            "dtypes: float64(9), object(1)\n",
            "memory usage: 690.0+ KB\n"
          ]
        }
      ],
      "source": [
        "# print the info of the dataframe\n",
        "df.info()"
      ]
    },
    {
      "cell_type": "code",
      "execution_count": null,
      "metadata": {
        "id": "fvvfxjGuKXFi"
      },
      "outputs": [],
      "source": [
        "# drop the longitude, latitude columns \n",
        "df.drop(['longitude', 'latitude'], axis=1, inplace=True)"
      ]
    },
    {
      "cell_type": "code",
      "execution_count": null,
      "metadata": {
        "colab": {
          "base_uri": "https://localhost:8080/"
        },
        "id": "FTC3Umw7Kc69",
        "outputId": "ea66f4ba-8296-44f3-94e5-09f7cf861bc9"
      },
      "outputs": [
        {
          "name": "stdout",
          "output_type": "stream",
          "text": [
            "<class 'pandas.core.frame.DataFrame'>\n",
            "Int64Index: 8829 entries, 0 to 8828\n",
            "Data columns (total 8 columns):\n",
            " #   Column              Non-Null Count  Dtype  \n",
            "---  ------              --------------  -----  \n",
            " 0   housing_median_age  8829 non-null   float64\n",
            " 1   total_rooms         8829 non-null   float64\n",
            " 2   total_bedrooms      8829 non-null   float64\n",
            " 3   population          8829 non-null   float64\n",
            " 4   households          8829 non-null   float64\n",
            " 5   median_income       8829 non-null   float64\n",
            " 6   median_house_value  8829 non-null   float64\n",
            " 7   ocean_proximity     8829 non-null   int64  \n",
            "dtypes: float64(7), int64(1)\n",
            "memory usage: 620.8 KB\n"
          ]
        }
      ],
      "source": [
        "# print the info of the dataframe\n",
        "df.info()"
      ]
    },
    {
      "cell_type": "code",
      "execution_count": null,
      "metadata": {
        "colab": {
          "base_uri": "https://localhost:8080/"
        },
        "id": "heCYcW6hJ_8L",
        "outputId": "79f964c5-0a59-41e1-c890-4f495d22ae32"
      },
      "outputs": [
        {
          "data": {
            "text/plain": [
              "housing_median_age     1\n",
              "total_rooms            1\n",
              "total_bedrooms        91\n",
              "population             1\n",
              "households             1\n",
              "median_income          1\n",
              "median_house_value     1\n",
              "ocean_proximity        1\n",
              "dtype: int64"
            ]
          },
          "execution_count": 16,
          "metadata": {},
          "output_type": "execute_result"
        }
      ],
      "source": [
        "# count how many nan values are in the dataframe\n",
        "df.isnull().sum()"
      ]
    },
    {
      "cell_type": "code",
      "execution_count": null,
      "metadata": {
        "id": "eI2IOHTVKi5H"
      },
      "outputs": [],
      "source": [
        "# fill the nan values with the mean of the \n",
        "df.housing_median_age.fillna(value=df.housing_median_age.mean(), inplace=True)\n",
        "df.total_rooms.fillna(value=df.total_rooms.mean(), inplace=True)\n",
        "df.total_bedrooms.fillna(value=df.total_bedrooms.mean(), inplace=True) \n",
        "df.population.fillna(value=df.population.mean(), inplace=True)\n",
        "df.households.fillna(value=df.households.mean(), inplace=True)\n",
        "df.median_income.fillna(value=df.median_income.mean(), inplace=True)\n",
        "df.median_house_value.fillna(value=df.median_house_value.mean(), inplace=True)\n",
        "df.ocean_proximity.dropna(inplace=True)"
      ]
    },
    {
      "cell_type": "code",
      "execution_count": null,
      "metadata": {
        "colab": {
          "base_uri": "https://localhost:8080/"
        },
        "id": "K-dPjkIHK-sZ",
        "outputId": "db9c155c-fc13-49aa-e510-45bd26c779f3"
      },
      "outputs": [
        {
          "data": {
            "text/plain": [
              "housing_median_age    0\n",
              "total_rooms           0\n",
              "total_bedrooms        0\n",
              "population            0\n",
              "households            0\n",
              "median_income         0\n",
              "median_house_value    0\n",
              "ocean_proximity       0\n",
              "dtype: int64"
            ]
          },
          "execution_count": 36,
          "metadata": {},
          "output_type": "execute_result"
        }
      ],
      "source": [
        "# count how many nan values are in the dataframe\n",
        "df.isnull().sum()"
      ]
    },
    {
      "cell_type": "code",
      "execution_count": null,
      "metadata": {
        "id": "nPOXYqWtk_F3"
      },
      "outputs": [],
      "source": [
        "# convert the words to numerical values \n",
        "# create function that return two dictionary of word to index and the other index word \n",
        "def string_to_numerics(column):\n",
        "  word_index = {}\n",
        "  index_word = {}\n",
        "  for i,v in enumerate(column.unique()):\n",
        "    word_index[v] = i\n",
        "    index_word[i] = v\n",
        "\n",
        "  # return word to index & index to word dictionaries \n",
        "  return word_index, index_word\n"
      ]
    },
    {
      "cell_type": "code",
      "execution_count": null,
      "metadata": {
        "id": "fgT_fl5QlWw3"
      },
      "outputs": [],
      "source": [
        "#convert the string to numeric\n",
        "word_index, index_word = string_to_numerics(df.ocean_proximity)\n",
        "df.ocean_proximity.replace(word_index, inplace=True)"
      ]
    },
    {
      "cell_type": "code",
      "execution_count": null,
      "metadata": {
        "colab": {
          "base_uri": "https://localhost:8080/",
          "height": 423
        },
        "id": "Xbdqc38WlmlA",
        "outputId": "40da421f-ecec-40ad-9713-b44be473b6d4"
      },
      "outputs": [
        {
          "data": {
            "text/html": [
              "\n",
              "  <div id=\"df-cb96fdb7-93cf-4318-af8a-9f458b2f6a64\">\n",
              "    <div class=\"colab-df-container\">\n",
              "      <div>\n",
              "<style scoped>\n",
              "    .dataframe tbody tr th:only-of-type {\n",
              "        vertical-align: middle;\n",
              "    }\n",
              "\n",
              "    .dataframe tbody tr th {\n",
              "        vertical-align: top;\n",
              "    }\n",
              "\n",
              "    .dataframe thead th {\n",
              "        text-align: right;\n",
              "    }\n",
              "</style>\n",
              "<table border=\"1\" class=\"dataframe\">\n",
              "  <thead>\n",
              "    <tr style=\"text-align: right;\">\n",
              "      <th></th>\n",
              "      <th>housing_median_age</th>\n",
              "      <th>total_rooms</th>\n",
              "      <th>total_bedrooms</th>\n",
              "      <th>population</th>\n",
              "      <th>households</th>\n",
              "      <th>median_income</th>\n",
              "      <th>median_house_value</th>\n",
              "      <th>ocean_proximity</th>\n",
              "    </tr>\n",
              "  </thead>\n",
              "  <tbody>\n",
              "    <tr>\n",
              "      <th>0</th>\n",
              "      <td>41.0</td>\n",
              "      <td>880.0</td>\n",
              "      <td>129.0</td>\n",
              "      <td>322.0</td>\n",
              "      <td>126.0</td>\n",
              "      <td>8.3252</td>\n",
              "      <td>452600.0</td>\n",
              "      <td>0</td>\n",
              "    </tr>\n",
              "    <tr>\n",
              "      <th>1</th>\n",
              "      <td>21.0</td>\n",
              "      <td>7099.0</td>\n",
              "      <td>1106.0</td>\n",
              "      <td>2401.0</td>\n",
              "      <td>1138.0</td>\n",
              "      <td>8.3014</td>\n",
              "      <td>358500.0</td>\n",
              "      <td>0</td>\n",
              "    </tr>\n",
              "    <tr>\n",
              "      <th>2</th>\n",
              "      <td>52.0</td>\n",
              "      <td>1467.0</td>\n",
              "      <td>190.0</td>\n",
              "      <td>496.0</td>\n",
              "      <td>177.0</td>\n",
              "      <td>7.2574</td>\n",
              "      <td>352100.0</td>\n",
              "      <td>0</td>\n",
              "    </tr>\n",
              "    <tr>\n",
              "      <th>3</th>\n",
              "      <td>52.0</td>\n",
              "      <td>1274.0</td>\n",
              "      <td>235.0</td>\n",
              "      <td>558.0</td>\n",
              "      <td>219.0</td>\n",
              "      <td>5.6431</td>\n",
              "      <td>341300.0</td>\n",
              "      <td>0</td>\n",
              "    </tr>\n",
              "    <tr>\n",
              "      <th>4</th>\n",
              "      <td>52.0</td>\n",
              "      <td>1627.0</td>\n",
              "      <td>280.0</td>\n",
              "      <td>565.0</td>\n",
              "      <td>259.0</td>\n",
              "      <td>3.8462</td>\n",
              "      <td>342200.0</td>\n",
              "      <td>0</td>\n",
              "    </tr>\n",
              "    <tr>\n",
              "      <th>...</th>\n",
              "      <td>...</td>\n",
              "      <td>...</td>\n",
              "      <td>...</td>\n",
              "      <td>...</td>\n",
              "      <td>...</td>\n",
              "      <td>...</td>\n",
              "      <td>...</td>\n",
              "      <td>...</td>\n",
              "    </tr>\n",
              "    <tr>\n",
              "      <th>8824</th>\n",
              "      <td>36.0</td>\n",
              "      <td>1616.0</td>\n",
              "      <td>465.0</td>\n",
              "      <td>773.0</td>\n",
              "      <td>429.0</td>\n",
              "      <td>2.6000</td>\n",
              "      <td>313600.0</td>\n",
              "      <td>1</td>\n",
              "    </tr>\n",
              "    <tr>\n",
              "      <th>8825</th>\n",
              "      <td>33.0</td>\n",
              "      <td>3463.0</td>\n",
              "      <td>1170.0</td>\n",
              "      <td>1845.0</td>\n",
              "      <td>1134.0</td>\n",
              "      <td>2.0205</td>\n",
              "      <td>243800.0</td>\n",
              "      <td>1</td>\n",
              "    </tr>\n",
              "    <tr>\n",
              "      <th>8826</th>\n",
              "      <td>30.0</td>\n",
              "      <td>2353.0</td>\n",
              "      <td>728.0</td>\n",
              "      <td>1365.0</td>\n",
              "      <td>718.0</td>\n",
              "      <td>2.0702</td>\n",
              "      <td>283300.0</td>\n",
              "      <td>1</td>\n",
              "    </tr>\n",
              "    <tr>\n",
              "      <th>8827</th>\n",
              "      <td>37.0</td>\n",
              "      <td>7097.0</td>\n",
              "      <td>2010.0</td>\n",
              "      <td>2913.0</td>\n",
              "      <td>1939.0</td>\n",
              "      <td>2.8750</td>\n",
              "      <td>300000.0</td>\n",
              "      <td>1</td>\n",
              "    </tr>\n",
              "    <tr>\n",
              "      <th>8828</th>\n",
              "      <td>36.0</td>\n",
              "      <td>1390.0</td>\n",
              "      <td>458.0</td>\n",
              "      <td>874.0</td>\n",
              "      <td>468.0</td>\n",
              "      <td>2.5812</td>\n",
              "      <td>200000.0</td>\n",
              "      <td>1</td>\n",
              "    </tr>\n",
              "  </tbody>\n",
              "</table>\n",
              "<p>8829 rows × 8 columns</p>\n",
              "</div>\n",
              "      <button class=\"colab-df-convert\" onclick=\"convertToInteractive('df-cb96fdb7-93cf-4318-af8a-9f458b2f6a64')\"\n",
              "              title=\"Convert this dataframe to an interactive table.\"\n",
              "              style=\"display:none;\">\n",
              "        \n",
              "  <svg xmlns=\"http://www.w3.org/2000/svg\" height=\"24px\"viewBox=\"0 0 24 24\"\n",
              "       width=\"24px\">\n",
              "    <path d=\"M0 0h24v24H0V0z\" fill=\"none\"/>\n",
              "    <path d=\"M18.56 5.44l.94 2.06.94-2.06 2.06-.94-2.06-.94-.94-2.06-.94 2.06-2.06.94zm-11 1L8.5 8.5l.94-2.06 2.06-.94-2.06-.94L8.5 2.5l-.94 2.06-2.06.94zm10 10l.94 2.06.94-2.06 2.06-.94-2.06-.94-.94-2.06-.94 2.06-2.06.94z\"/><path d=\"M17.41 7.96l-1.37-1.37c-.4-.4-.92-.59-1.43-.59-.52 0-1.04.2-1.43.59L10.3 9.45l-7.72 7.72c-.78.78-.78 2.05 0 2.83L4 21.41c.39.39.9.59 1.41.59.51 0 1.02-.2 1.41-.59l7.78-7.78 2.81-2.81c.8-.78.8-2.07 0-2.86zM5.41 20L4 18.59l7.72-7.72 1.47 1.35L5.41 20z\"/>\n",
              "  </svg>\n",
              "      </button>\n",
              "      \n",
              "  <style>\n",
              "    .colab-df-container {\n",
              "      display:flex;\n",
              "      flex-wrap:wrap;\n",
              "      gap: 12px;\n",
              "    }\n",
              "\n",
              "    .colab-df-convert {\n",
              "      background-color: #E8F0FE;\n",
              "      border: none;\n",
              "      border-radius: 50%;\n",
              "      cursor: pointer;\n",
              "      display: none;\n",
              "      fill: #1967D2;\n",
              "      height: 32px;\n",
              "      padding: 0 0 0 0;\n",
              "      width: 32px;\n",
              "    }\n",
              "\n",
              "    .colab-df-convert:hover {\n",
              "      background-color: #E2EBFA;\n",
              "      box-shadow: 0px 1px 2px rgba(60, 64, 67, 0.3), 0px 1px 3px 1px rgba(60, 64, 67, 0.15);\n",
              "      fill: #174EA6;\n",
              "    }\n",
              "\n",
              "    [theme=dark] .colab-df-convert {\n",
              "      background-color: #3B4455;\n",
              "      fill: #D2E3FC;\n",
              "    }\n",
              "\n",
              "    [theme=dark] .colab-df-convert:hover {\n",
              "      background-color: #434B5C;\n",
              "      box-shadow: 0px 1px 3px 1px rgba(0, 0, 0, 0.15);\n",
              "      filter: drop-shadow(0px 1px 2px rgba(0, 0, 0, 0.3));\n",
              "      fill: #FFFFFF;\n",
              "    }\n",
              "  </style>\n",
              "\n",
              "      <script>\n",
              "        const buttonEl =\n",
              "          document.querySelector('#df-cb96fdb7-93cf-4318-af8a-9f458b2f6a64 button.colab-df-convert');\n",
              "        buttonEl.style.display =\n",
              "          google.colab.kernel.accessAllowed ? 'block' : 'none';\n",
              "\n",
              "        async function convertToInteractive(key) {\n",
              "          const element = document.querySelector('#df-cb96fdb7-93cf-4318-af8a-9f458b2f6a64');\n",
              "          const dataTable =\n",
              "            await google.colab.kernel.invokeFunction('convertToInteractive',\n",
              "                                                     [key], {});\n",
              "          if (!dataTable) return;\n",
              "\n",
              "          const docLinkHtml = 'Like what you see? Visit the ' +\n",
              "            '<a target=\"_blank\" href=https://colab.research.google.com/notebooks/data_table.ipynb>data table notebook</a>'\n",
              "            + ' to learn more about interactive tables.';\n",
              "          element.innerHTML = '';\n",
              "          dataTable['output_type'] = 'display_data';\n",
              "          await google.colab.output.renderOutput(dataTable, element);\n",
              "          const docLink = document.createElement('div');\n",
              "          docLink.innerHTML = docLinkHtml;\n",
              "          element.appendChild(docLink);\n",
              "        }\n",
              "      </script>\n",
              "    </div>\n",
              "  </div>\n",
              "  "
            ],
            "text/plain": [
              "      housing_median_age  total_rooms  ...  median_house_value  ocean_proximity\n",
              "0                   41.0        880.0  ...            452600.0                0\n",
              "1                   21.0       7099.0  ...            358500.0                0\n",
              "2                   52.0       1467.0  ...            352100.0                0\n",
              "3                   52.0       1274.0  ...            341300.0                0\n",
              "4                   52.0       1627.0  ...            342200.0                0\n",
              "...                  ...          ...  ...                 ...              ...\n",
              "8824                36.0       1616.0  ...            313600.0                1\n",
              "8825                33.0       3463.0  ...            243800.0                1\n",
              "8826                30.0       2353.0  ...            283300.0                1\n",
              "8827                37.0       7097.0  ...            300000.0                1\n",
              "8828                36.0       1390.0  ...            200000.0                1\n",
              "\n",
              "[8829 rows x 8 columns]"
            ]
          },
          "execution_count": 35,
          "metadata": {},
          "output_type": "execute_result"
        }
      ],
      "source": [
        "# print the dataframe\n",
        "df"
      ]
    },
    {
      "cell_type": "code",
      "execution_count": null,
      "metadata": {
        "colab": {
          "base_uri": "https://localhost:8080/",
          "height": 781
        },
        "id": "5pLXg9ZKlsZ1",
        "outputId": "d14cf869-986f-4798-e46e-2e6f61bc8522"
      },
      "outputs": [
        {
          "data": {
            "text/plain": [
              "array([[<matplotlib.axes._subplots.AxesSubplot object at 0x7f4d22fb7c10>,\n",
              "        <matplotlib.axes._subplots.AxesSubplot object at 0x7f4d21f61f50>,\n",
              "        <matplotlib.axes._subplots.AxesSubplot object at 0x7f4d21f1d490>],\n",
              "       [<matplotlib.axes._subplots.AxesSubplot object at 0x7f4d21ed1a90>,\n",
              "        <matplotlib.axes._subplots.AxesSubplot object at 0x7f4d21e99150>,\n",
              "        <matplotlib.axes._subplots.AxesSubplot object at 0x7f4d21e4d790>],\n",
              "       [<matplotlib.axes._subplots.AxesSubplot object at 0x7f4d21e04d90>,\n",
              "        <matplotlib.axes._subplots.AxesSubplot object at 0x7f4d21dc63d0>,\n",
              "        <matplotlib.axes._subplots.AxesSubplot object at 0x7f4d21dd14d0>]],\n",
              "      dtype=object)"
            ]
          },
          "execution_count": 38,
          "metadata": {},
          "output_type": "execute_result"
        },
        {
          "data": {
            "image/png": "[encoded data removed]",
            "text/plain": [
              "<Figure size 720x720 with 9 Axes>"
            ]
          },
          "metadata": {
            "needs_background": "light"
          },
          "output_type": "display_data"
        }
      ],
      "source": [
        "# plot the hist for the dataframe \n",
        "df.hist(figsize=(10,10))"
      ]
    },
    {
      "cell_type": "markdown",
      "metadata": {
        "id": "XAbTNsyOL5xz"
      },
      "source": [
        "# Split the dataset to 20% for testing and 80% for training."
      ]
    },
    {
      "cell_type": "code",
      "execution_count": null,
      "metadata": {
        "id": "8uowJtBJLCE6"
      },
      "outputs": [],
      "source": [
        "# split the dataset to x and y \n",
        "x= np.asarray(df[['ocean_proximity', 'median_income', 'households', 'population', 'total_bedrooms', 'total_rooms', 'housing_median_age']])\n",
        "y = np.asarray(df[['median_house_value']].astype(int))"
      ]
    },
    {
      "cell_type": "code",
      "execution_count": null,
      "metadata": {
        "colab": {
          "base_uri": "https://localhost:8080/"
        },
        "id": "UnjxJ1e2Q0fa",
        "outputId": "776aa247-ec30-425a-e16d-93fd45a5cfcb"
      },
      "outputs": [
        {
          "data": {
            "text/plain": [
              "array([[0.0000e+00, 8.3252e+00, 1.2600e+02, ..., 1.2900e+02, 8.8000e+02,\n",
              "        4.1000e+01],\n",
              "       [0.0000e+00, 8.3014e+00, 1.1380e+03, ..., 1.1060e+03, 7.0990e+03,\n",
              "        2.1000e+01],\n",
              "       [0.0000e+00, 7.2574e+00, 1.7700e+02, ..., 1.9000e+02, 1.4670e+03,\n",
              "        5.2000e+01],\n",
              "       ...,\n",
              "       [1.0000e+00, 2.0702e+00, 7.1800e+02, ..., 7.2800e+02, 2.3530e+03,\n",
              "        3.0000e+01],\n",
              "       [1.0000e+00, 2.8750e+00, 1.9390e+03, ..., 2.0100e+03, 7.0970e+03,\n",
              "        3.7000e+01],\n",
              "       [1.0000e+00, 2.5812e+00, 4.6800e+02, ..., 4.5800e+02, 1.3900e+03,\n",
              "        3.6000e+01]])"
            ]
          },
          "execution_count": 56,
          "metadata": {},
          "output_type": "execute_result"
        }
      ],
      "source": [
        "x"
      ]
    },
    {
      "cell_type": "code",
      "execution_count": null,
      "metadata": {
        "id": "0bL6mRNRaFGV"
      },
      "outputs": [],
      "source": [
        "# normalize the values of x and y\n",
        "x_norm = preprocessing.StandardScaler().fit(x).transform(x)\n",
        "y_minmax = preprocessing.MinMaxScaler().fit(y.reshape(-1,1)).transform(y.reshape(-1,1))"
      ]
    },
    {
      "cell_type": "code",
      "execution_count": null,
      "metadata": {
        "colab": {
          "base_uri": "https://localhost:8080/",
          "height": 578
        },
        "id": "kOG0evqTaVFe",
        "outputId": "e1cce5f2-fa84-4a4e-f044-2710ac23871d"
      },
      "outputs": [
        {
          "data": {
            "text/plain": [
              "(array([[1.287e+03, 4.919e+03, 2.618e+03, 5.000e+00, 0.000e+00, 0.000e+00,\n",
              "         0.000e+00, 0.000e+00, 0.000e+00, 0.000e+00],\n",
              "        [1.568e+03, 6.237e+03, 8.730e+02, 1.120e+02, 3.900e+01, 0.000e+00,\n",
              "         0.000e+00, 0.000e+00, 0.000e+00, 0.000e+00],\n",
              "        [8.970e+02, 7.049e+03, 7.150e+02, 1.190e+02, 3.300e+01, 1.000e+01,\n",
              "         4.000e+00, 1.000e+00, 1.000e+00, 0.000e+00],\n",
              "        [1.010e+03, 6.880e+03, 7.770e+02, 1.170e+02, 3.100e+01, 1.000e+01,\n",
              "         1.000e+00, 1.000e+00, 2.000e+00, 0.000e+00],\n",
              "        [8.700e+02, 7.086e+03, 6.990e+02, 1.230e+02, 3.600e+01, 9.000e+00,\n",
              "         4.000e+00, 1.000e+00, 1.000e+00, 0.000e+00],\n",
              "        [7.610e+02, 7.274e+03, 6.330e+02, 1.130e+02, 2.500e+01, 1.400e+01,\n",
              "         6.000e+00, 0.000e+00, 2.000e+00, 1.000e+00],\n",
              "        [1.875e+03, 5.581e+03, 1.373e+03, 0.000e+00, 0.000e+00, 0.000e+00,\n",
              "         0.000e+00, 0.000e+00, 0.000e+00, 0.000e+00]]),\n",
              " array([-2.71132544, -0.8254363 ,  1.06045283,  2.94634197,  4.83223111,\n",
              "         6.71812024,  8.60400938, 10.48989852, 12.37578765, 14.26167679,\n",
              "        16.14756593]),\n",
              " <a list of 7 Lists of Patches objects>)"
            ]
          },
          "execution_count": 58,
          "metadata": {},
          "output_type": "execute_result"
        },
        {
          "data": {
            "image/png": "[encoded data removed]",
            "text/plain": [
              "<Figure size 432x288 with 1 Axes>"
            ]
          },
          "metadata": {
            "needs_background": "light"
          },
          "output_type": "display_data"
        }
      ],
      "source": [
        "# plot the hist for the normalized x \n",
        "plt.hist(x_norm)"
      ]
    },
    {
      "cell_type": "code",
      "execution_count": null,
      "metadata": {
        "id": "VdNWrLWZRM9J"
      },
      "outputs": [],
      "source": [
        "# split the data to train and test \n",
        "x_train, x_test, y_train, y_test = model_selection.train_test_split(x_norm, y_minmax, test_size=0.20, random_state=42)"
      ]
    },
    {
      "cell_type": "markdown",
      "metadata": {
        "id": "nrS_JJaHm3QL"
      },
      "source": [
        "# Create and train 4 Machine Learning models.\n"
      ]
    },
    {
      "cell_type": "markdown",
      "metadata": {
        "id": "5wwburFZp9ht"
      },
      "source": [
        "Linear Regression"
      ]
    },
    {
      "cell_type": "code",
      "execution_count": null,
      "metadata": {
        "colab": {
          "base_uri": "https://localhost:8080/"
        },
        "id": "zYvNQ3SfqDtD",
        "outputId": "4c25a692-f892-4408-ae44-d826996cb5ee"
      },
      "outputs": [
        {
          "data": {
            "text/plain": [
              "LinearRegression()"
            ]
          },
          "execution_count": 156,
          "metadata": {},
          "output_type": "execute_result"
        }
      ],
      "source": [
        "model_linear = linear_model.LinearRegression()\n",
        "model_linear.fit(x_train, y_train)"
      ]
    },
    {
      "cell_type": "markdown",
      "metadata": {
        "id": "Y-hpnbsYr8oM"
      },
      "source": [
        "KNN"
      ]
    },
    {
      "cell_type": "code",
      "execution_count": null,
      "metadata": {
        "colab": {
          "base_uri": "https://localhost:8080/"
        },
        "id": "srIVvRqBsAUD",
        "outputId": "0d53e408-ecce-4bdd-e7aa-982e98dace5b"
      },
      "outputs": [
        {
          "data": {
            "text/plain": [
              "KNeighborsRegressor(n_neighbors=9)"
            ]
          },
          "execution_count": 164,
          "metadata": {},
          "output_type": "execute_result"
        }
      ],
      "source": [
        "model_knn = neighbors.KNeighborsRegressor(n_neighbors=9)\n",
        "model_knn.fit(x_train, y_train)"
      ]
    },
    {
      "cell_type": "markdown",
      "metadata": {
        "id": "iJzDVRZYs5Si"
      },
      "source": [
        "SVM"
      ]
    },
    {
      "cell_type": "code",
      "execution_count": null,
      "metadata": {
        "colab": {
          "base_uri": "https://localhost:8080/"
        },
        "id": "GMNyDDz_s8Xr",
        "outputId": "c2866b72-d05e-4311-f747-d93886621987"
      },
      "outputs": [
        {
          "name": "stderr",
          "output_type": "stream",
          "text": [
            "/usr/local/lib/python3.7/dist-packages/sklearn/utils/validation.py:993: DataConversionWarning: A column-vector y was passed when a 1d array was expected. Please change the shape of y to (n_samples, ), for example using ravel().\n",
            "  y = column_or_1d(y, warn=True)\n"
          ]
        },
        {
          "data": {
            "text/plain": [
              "SVR(C=2)"
            ]
          },
          "execution_count": 192,
          "metadata": {},
          "output_type": "execute_result"
        }
      ],
      "source": [
        "model_svm = svm.SVR(kernel='rbf', C=2)\n",
        "model_svm.fit(x_train, y_train)"
      ]
    },
    {
      "cell_type": "markdown",
      "metadata": {
        "id": "NQL__ciywLiO"
      },
      "source": [
        "Tree"
      ]
    },
    {
      "cell_type": "code",
      "execution_count": null,
      "metadata": {
        "colab": {
          "base_uri": "https://localhost:8080/"
        },
        "id": "iMOyYzHSwNlr",
        "outputId": "71cb1c40-04e6-4525-d939-92b01f2d5a39"
      },
      "outputs": [
        {
          "data": {
            "text/plain": [
              "DecisionTreeRegressor(max_depth=4)"
            ]
          },
          "execution_count": 194,
          "metadata": {},
          "output_type": "execute_result"
        }
      ],
      "source": [
        "model_tree = tree.DecisionTreeRegressor(max_depth=4)\n",
        "model_tree.fit(x_train, y_train)"
      ]
    },
    {
      "cell_type": "markdown",
      "metadata": {
        "id": "EfSMkHHw1aXn"
      },
      "source": [
        "# Use the right evaluation metrics to choose the best model."
      ]
    },
    {
      "cell_type": "code",
      "execution_count": null,
      "metadata": {
        "colab": {
          "base_uri": "https://localhost:8080/"
        },
        "id": "5oksrAYLqSC4",
        "outputId": "bc9c04e1-7b07-407d-e3bd-cf7a8df55dc9"
      },
      "outputs": [
        {
          "name": "stdout",
          "output_type": "stream",
          "text": [
            "MSE: 0.022108503237891826\n",
            "r2: 0.5961778246967557\n"
          ]
        }
      ],
      "source": [
        "y_linear = model_linear.predict(x_test)\n",
        "\n",
        "print(f\"MSE: {metrics.mean_squared_error(y_test, y_linear)}\")\n",
        "print(f\"r2: {metrics.r2_score(y_test, y_linear)}\")\n"
      ]
    },
    {
      "cell_type": "code",
      "execution_count": null,
      "metadata": {
        "colab": {
          "base_uri": "https://localhost:8080/"
        },
        "id": "mpyTVPvGsgme",
        "outputId": "bc35ae14-c7f8-4918-8e5a-ad87455ea190"
      },
      "outputs": [
        {
          "name": "stdout",
          "output_type": "stream",
          "text": [
            "MSE: 0.016017783229795808\n",
            "r2: 0.7074276807529027\n"
          ]
        }
      ],
      "source": [
        "y_knn = model_knn.predict(x_test)\n",
        "\n",
        "print(f\"MSE: {metrics.mean_squared_error(y_test, y_knn)}\")\n",
        "print(f\"r2: {metrics.r2_score(y_test, y_knn)}\")\n"
      ]
    },
    {
      "cell_type": "code",
      "execution_count": null,
      "metadata": {
        "colab": {
          "base_uri": "https://localhost:8080/"
        },
        "id": "y6a6dSR6tTbq",
        "outputId": "19f5879c-10f1-4758-bd92-c5dffa0d79a6"
      },
      "outputs": [
        {
          "name": "stdout",
          "output_type": "stream",
          "text": [
            "MSE: 0.013190783376431363\n",
            "r2: 0.7590641582694351\n"
          ]
        }
      ],
      "source": [
        "y_svm = model_svm.predict(x_test)\n",
        "\n",
        "print(f\"MSE: {metrics.mean_squared_error(y_test, y_svm)}\")\n",
        "print(f\"r2: {metrics.r2_score(y_test, y_svm)}\")\n"
      ]
    },
    {
      "cell_type": "code",
      "execution_count": null,
      "metadata": {
        "colab": {
          "base_uri": "https://localhost:8080/"
        },
        "id": "LugT9h8mwajE",
        "outputId": "476f4559-c5d9-40ce-d329-54977d0b2af0"
      },
      "outputs": [
        {
          "name": "stdout",
          "output_type": "stream",
          "text": [
            "MSE: 0.02298397262630938\n",
            "r2: 0.5801869659290643\n"
          ]
        }
      ],
      "source": [
        "y_tree = model_tree.predict(x_test)\n",
        "\n",
        "print(f\"MSE: {metrics.mean_squared_error(y_test, y_tree)}\")\n",
        "print(f\"r2: {metrics.r2_score(y_test, y_tree)}\")\n"
      ]
    },
    {
      "cell_type": "markdown",
      "metadata": {
        "id": "o4gibMTVyvxP"
      },
      "source": [
        "The Best Model is : SVM - SVR                                 \n",
        "because it's offer minimum MSE and the maximum r2 score."
      ]
    }
  ],
  "metadata": {
    "colab": {
      "collapsed_sections": [],
      "name": "Assignments 03 - Machine Learning: Hussein Fadhil.ipynb",
      "provenance": []
    },
    "kernelspec": {
      "display_name": "Python 3",
      "name": "python3"
    },
    "language_info": {
      "name": "python"
    }
  },
  "nbformat": 4,
  "nbformat_minor": 0
}
